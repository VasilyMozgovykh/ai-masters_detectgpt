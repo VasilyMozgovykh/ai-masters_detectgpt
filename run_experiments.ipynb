{
  "nbformat": 4,
  "nbformat_minor": 0,
  "metadata": {
    "colab": {
      "provenance": [],
      "gpuType": "T4"
    },
    "kernelspec": {
      "name": "python3",
      "display_name": "Python 3"
    },
    "language_info": {
      "name": "python"
    },
    "accelerator": "GPU",
    "widgets": {
      "application/vnd.jupyter.widget-state+json": {
        "72f6224558db482e9dce3e0cb46a707f": {
          "model_module": "@jupyter-widgets/controls",
          "model_name": "HBoxModel",
          "model_module_version": "1.5.0",
          "state": {
            "_dom_classes": [],
            "_model_module": "@jupyter-widgets/controls",
            "_model_module_version": "1.5.0",
            "_model_name": "HBoxModel",
            "_view_count": null,
            "_view_module": "@jupyter-widgets/controls",
            "_view_module_version": "1.5.0",
            "_view_name": "HBoxView",
            "box_style": "",
            "children": [
              "IPY_MODEL_0133fd66b20146aa82693338a29f6824",
              "IPY_MODEL_5f70342d50b14bd3911a93bce056cf16",
              "IPY_MODEL_5b072cd9dbf747e4b776a8b22cd15d19"
            ],
            "layout": "IPY_MODEL_abafb194c6644b4c8876b3cbd331faf5"
          }
        },
        "0133fd66b20146aa82693338a29f6824": {
          "model_module": "@jupyter-widgets/controls",
          "model_name": "HTMLModel",
          "model_module_version": "1.5.0",
          "state": {
            "_dom_classes": [],
            "_model_module": "@jupyter-widgets/controls",
            "_model_module_version": "1.5.0",
            "_model_name": "HTMLModel",
            "_view_count": null,
            "_view_module": "@jupyter-widgets/controls",
            "_view_module_version": "1.5.0",
            "_view_name": "HTMLView",
            "description": "",
            "description_tooltip": null,
            "layout": "IPY_MODEL_818546ddf755409e87fa2e6383b64b2b",
            "placeholder": "​",
            "style": "IPY_MODEL_6751aefdd4bf4de08348b7089029ef5f",
            "value": "config.json: 100%"
          }
        },
        "5f70342d50b14bd3911a93bce056cf16": {
          "model_module": "@jupyter-widgets/controls",
          "model_name": "FloatProgressModel",
          "model_module_version": "1.5.0",
          "state": {
            "_dom_classes": [],
            "_model_module": "@jupyter-widgets/controls",
            "_model_module_version": "1.5.0",
            "_model_name": "FloatProgressModel",
            "_view_count": null,
            "_view_module": "@jupyter-widgets/controls",
            "_view_module_version": "1.5.0",
            "_view_name": "ProgressView",
            "bar_style": "success",
            "description": "",
            "description_tooltip": null,
            "layout": "IPY_MODEL_4e0d707bda574a4aa82d1d2c42b8e835",
            "max": 691,
            "min": 0,
            "orientation": "horizontal",
            "style": "IPY_MODEL_92dccc9939524086ab1410c88af9adf0",
            "value": 691
          }
        },
        "5b072cd9dbf747e4b776a8b22cd15d19": {
          "model_module": "@jupyter-widgets/controls",
          "model_name": "HTMLModel",
          "model_module_version": "1.5.0",
          "state": {
            "_dom_classes": [],
            "_model_module": "@jupyter-widgets/controls",
            "_model_module_version": "1.5.0",
            "_model_name": "HTMLModel",
            "_view_count": null,
            "_view_module": "@jupyter-widgets/controls",
            "_view_module_version": "1.5.0",
            "_view_name": "HTMLView",
            "description": "",
            "description_tooltip": null,
            "layout": "IPY_MODEL_f511b29df2d04ff2b6afda3716da317e",
            "placeholder": "​",
            "style": "IPY_MODEL_3f9336c00bf04a57980dda4c25c461f2",
            "value": " 691/691 [00:00&lt;00:00, 45.4kB/s]"
          }
        },
        "abafb194c6644b4c8876b3cbd331faf5": {
          "model_module": "@jupyter-widgets/base",
          "model_name": "LayoutModel",
          "model_module_version": "1.2.0",
          "state": {
            "_model_module": "@jupyter-widgets/base",
            "_model_module_version": "1.2.0",
            "_model_name": "LayoutModel",
            "_view_count": null,
            "_view_module": "@jupyter-widgets/base",
            "_view_module_version": "1.2.0",
            "_view_name": "LayoutView",
            "align_content": null,
            "align_items": null,
            "align_self": null,
            "border": null,
            "bottom": null,
            "display": null,
            "flex": null,
            "flex_flow": null,
            "grid_area": null,
            "grid_auto_columns": null,
            "grid_auto_flow": null,
            "grid_auto_rows": null,
            "grid_column": null,
            "grid_gap": null,
            "grid_row": null,
            "grid_template_areas": null,
            "grid_template_columns": null,
            "grid_template_rows": null,
            "height": null,
            "justify_content": null,
            "justify_items": null,
            "left": null,
            "margin": null,
            "max_height": null,
            "max_width": null,
            "min_height": null,
            "min_width": null,
            "object_fit": null,
            "object_position": null,
            "order": null,
            "overflow": null,
            "overflow_x": null,
            "overflow_y": null,
            "padding": null,
            "right": null,
            "top": null,
            "visibility": null,
            "width": null
          }
        },
        "818546ddf755409e87fa2e6383b64b2b": {
          "model_module": "@jupyter-widgets/base",
          "model_name": "LayoutModel",
          "model_module_version": "1.2.0",
          "state": {
            "_model_module": "@jupyter-widgets/base",
            "_model_module_version": "1.2.0",
            "_model_name": "LayoutModel",
            "_view_count": null,
            "_view_module": "@jupyter-widgets/base",
            "_view_module_version": "1.2.0",
            "_view_name": "LayoutView",
            "align_content": null,
            "align_items": null,
            "align_self": null,
            "border": null,
            "bottom": null,
            "display": null,
            "flex": null,
            "flex_flow": null,
            "grid_area": null,
            "grid_auto_columns": null,
            "grid_auto_flow": null,
            "grid_auto_rows": null,
            "grid_column": null,
            "grid_gap": null,
            "grid_row": null,
            "grid_template_areas": null,
            "grid_template_columns": null,
            "grid_template_rows": null,
            "height": null,
            "justify_content": null,
            "justify_items": null,
            "left": null,
            "margin": null,
            "max_height": null,
            "max_width": null,
            "min_height": null,
            "min_width": null,
            "object_fit": null,
            "object_position": null,
            "order": null,
            "overflow": null,
            "overflow_x": null,
            "overflow_y": null,
            "padding": null,
            "right": null,
            "top": null,
            "visibility": null,
            "width": null
          }
        },
        "6751aefdd4bf4de08348b7089029ef5f": {
          "model_module": "@jupyter-widgets/controls",
          "model_name": "DescriptionStyleModel",
          "model_module_version": "1.5.0",
          "state": {
            "_model_module": "@jupyter-widgets/controls",
            "_model_module_version": "1.5.0",
            "_model_name": "DescriptionStyleModel",
            "_view_count": null,
            "_view_module": "@jupyter-widgets/base",
            "_view_module_version": "1.2.0",
            "_view_name": "StyleView",
            "description_width": ""
          }
        },
        "4e0d707bda574a4aa82d1d2c42b8e835": {
          "model_module": "@jupyter-widgets/base",
          "model_name": "LayoutModel",
          "model_module_version": "1.2.0",
          "state": {
            "_model_module": "@jupyter-widgets/base",
            "_model_module_version": "1.2.0",
            "_model_name": "LayoutModel",
            "_view_count": null,
            "_view_module": "@jupyter-widgets/base",
            "_view_module_version": "1.2.0",
            "_view_name": "LayoutView",
            "align_content": null,
            "align_items": null,
            "align_self": null,
            "border": null,
            "bottom": null,
            "display": null,
            "flex": null,
            "flex_flow": null,
            "grid_area": null,
            "grid_auto_columns": null,
            "grid_auto_flow": null,
            "grid_auto_rows": null,
            "grid_column": null,
            "grid_gap": null,
            "grid_row": null,
            "grid_template_areas": null,
            "grid_template_columns": null,
            "grid_template_rows": null,
            "height": null,
            "justify_content": null,
            "justify_items": null,
            "left": null,
            "margin": null,
            "max_height": null,
            "max_width": null,
            "min_height": null,
            "min_width": null,
            "object_fit": null,
            "object_position": null,
            "order": null,
            "overflow": null,
            "overflow_x": null,
            "overflow_y": null,
            "padding": null,
            "right": null,
            "top": null,
            "visibility": null,
            "width": null
          }
        },
        "92dccc9939524086ab1410c88af9adf0": {
          "model_module": "@jupyter-widgets/controls",
          "model_name": "ProgressStyleModel",
          "model_module_version": "1.5.0",
          "state": {
            "_model_module": "@jupyter-widgets/controls",
            "_model_module_version": "1.5.0",
            "_model_name": "ProgressStyleModel",
            "_view_count": null,
            "_view_module": "@jupyter-widgets/base",
            "_view_module_version": "1.2.0",
            "_view_name": "StyleView",
            "bar_color": null,
            "description_width": ""
          }
        },
        "f511b29df2d04ff2b6afda3716da317e": {
          "model_module": "@jupyter-widgets/base",
          "model_name": "LayoutModel",
          "model_module_version": "1.2.0",
          "state": {
            "_model_module": "@jupyter-widgets/base",
            "_model_module_version": "1.2.0",
            "_model_name": "LayoutModel",
            "_view_count": null,
            "_view_module": "@jupyter-widgets/base",
            "_view_module_version": "1.2.0",
            "_view_name": "LayoutView",
            "align_content": null,
            "align_items": null,
            "align_self": null,
            "border": null,
            "bottom": null,
            "display": null,
            "flex": null,
            "flex_flow": null,
            "grid_area": null,
            "grid_auto_columns": null,
            "grid_auto_flow": null,
            "grid_auto_rows": null,
            "grid_column": null,
            "grid_gap": null,
            "grid_row": null,
            "grid_template_areas": null,
            "grid_template_columns": null,
            "grid_template_rows": null,
            "height": null,
            "justify_content": null,
            "justify_items": null,
            "left": null,
            "margin": null,
            "max_height": null,
            "max_width": null,
            "min_height": null,
            "min_width": null,
            "object_fit": null,
            "object_position": null,
            "order": null,
            "overflow": null,
            "overflow_x": null,
            "overflow_y": null,
            "padding": null,
            "right": null,
            "top": null,
            "visibility": null,
            "width": null
          }
        },
        "3f9336c00bf04a57980dda4c25c461f2": {
          "model_module": "@jupyter-widgets/controls",
          "model_name": "DescriptionStyleModel",
          "model_module_version": "1.5.0",
          "state": {
            "_model_module": "@jupyter-widgets/controls",
            "_model_module_version": "1.5.0",
            "_model_name": "DescriptionStyleModel",
            "_view_count": null,
            "_view_module": "@jupyter-widgets/base",
            "_view_module_version": "1.2.0",
            "_view_name": "StyleView",
            "description_width": ""
          }
        },
        "42330a8fab3749ec8b8d89b36d10e4ca": {
          "model_module": "@jupyter-widgets/controls",
          "model_name": "HBoxModel",
          "model_module_version": "1.5.0",
          "state": {
            "_dom_classes": [],
            "_model_module": "@jupyter-widgets/controls",
            "_model_module_version": "1.5.0",
            "_model_name": "HBoxModel",
            "_view_count": null,
            "_view_module": "@jupyter-widgets/controls",
            "_view_module_version": "1.5.0",
            "_view_name": "HBoxView",
            "box_style": "",
            "children": [
              "IPY_MODEL_b7a74658b5454b789e638481391ab188",
              "IPY_MODEL_e676d3b054b5407997549b0209f32733",
              "IPY_MODEL_0def2ca084a0419e956c52cc5b6504e0"
            ],
            "layout": "IPY_MODEL_364461e4b9814c4394bad525389e8423"
          }
        },
        "b7a74658b5454b789e638481391ab188": {
          "model_module": "@jupyter-widgets/controls",
          "model_name": "HTMLModel",
          "model_module_version": "1.5.0",
          "state": {
            "_dom_classes": [],
            "_model_module": "@jupyter-widgets/controls",
            "_model_module_version": "1.5.0",
            "_model_name": "HTMLModel",
            "_view_count": null,
            "_view_module": "@jupyter-widgets/controls",
            "_view_module_version": "1.5.0",
            "_view_name": "HTMLView",
            "description": "",
            "description_tooltip": null,
            "layout": "IPY_MODEL_397b50f563a84e25ba54853b45c1fd1d",
            "placeholder": "​",
            "style": "IPY_MODEL_f7474af06d784227aa3f9a8e9a724e3c",
            "value": "pytorch_model.bin: 100%"
          }
        },
        "e676d3b054b5407997549b0209f32733": {
          "model_module": "@jupyter-widgets/controls",
          "model_name": "FloatProgressModel",
          "model_module_version": "1.5.0",
          "state": {
            "_dom_classes": [],
            "_model_module": "@jupyter-widgets/controls",
            "_model_module_version": "1.5.0",
            "_model_name": "FloatProgressModel",
            "_view_count": null,
            "_view_module": "@jupyter-widgets/controls",
            "_view_module_version": "1.5.0",
            "_view_name": "ProgressView",
            "bar_style": "success",
            "description": "",
            "description_tooltip": null,
            "layout": "IPY_MODEL_df3a4fa8a6c94982a8177fd35ecf3d19",
            "max": 5303359381,
            "min": 0,
            "orientation": "horizontal",
            "style": "IPY_MODEL_b9d512e8a85f4d73b041217e5955d09f",
            "value": 5303359381
          }
        },
        "0def2ca084a0419e956c52cc5b6504e0": {
          "model_module": "@jupyter-widgets/controls",
          "model_name": "HTMLModel",
          "model_module_version": "1.5.0",
          "state": {
            "_dom_classes": [],
            "_model_module": "@jupyter-widgets/controls",
            "_model_module_version": "1.5.0",
            "_model_name": "HTMLModel",
            "_view_count": null,
            "_view_module": "@jupyter-widgets/controls",
            "_view_module_version": "1.5.0",
            "_view_name": "HTMLView",
            "description": "",
            "description_tooltip": null,
            "layout": "IPY_MODEL_227c1e36a10d4f1386f80a73e38c9a6a",
            "placeholder": "​",
            "style": "IPY_MODEL_807f8df519984f04b55029b2f48841ea",
            "value": " 5.30G/5.30G [01:38&lt;00:00, 39.2MB/s]"
          }
        },
        "364461e4b9814c4394bad525389e8423": {
          "model_module": "@jupyter-widgets/base",
          "model_name": "LayoutModel",
          "model_module_version": "1.2.0",
          "state": {
            "_model_module": "@jupyter-widgets/base",
            "_model_module_version": "1.2.0",
            "_model_name": "LayoutModel",
            "_view_count": null,
            "_view_module": "@jupyter-widgets/base",
            "_view_module_version": "1.2.0",
            "_view_name": "LayoutView",
            "align_content": null,
            "align_items": null,
            "align_self": null,
            "border": null,
            "bottom": null,
            "display": null,
            "flex": null,
            "flex_flow": null,
            "grid_area": null,
            "grid_auto_columns": null,
            "grid_auto_flow": null,
            "grid_auto_rows": null,
            "grid_column": null,
            "grid_gap": null,
            "grid_row": null,
            "grid_template_areas": null,
            "grid_template_columns": null,
            "grid_template_rows": null,
            "height": null,
            "justify_content": null,
            "justify_items": null,
            "left": null,
            "margin": null,
            "max_height": null,
            "max_width": null,
            "min_height": null,
            "min_width": null,
            "object_fit": null,
            "object_position": null,
            "order": null,
            "overflow": null,
            "overflow_x": null,
            "overflow_y": null,
            "padding": null,
            "right": null,
            "top": null,
            "visibility": null,
            "width": null
          }
        },
        "397b50f563a84e25ba54853b45c1fd1d": {
          "model_module": "@jupyter-widgets/base",
          "model_name": "LayoutModel",
          "model_module_version": "1.2.0",
          "state": {
            "_model_module": "@jupyter-widgets/base",
            "_model_module_version": "1.2.0",
            "_model_name": "LayoutModel",
            "_view_count": null,
            "_view_module": "@jupyter-widgets/base",
            "_view_module_version": "1.2.0",
            "_view_name": "LayoutView",
            "align_content": null,
            "align_items": null,
            "align_self": null,
            "border": null,
            "bottom": null,
            "display": null,
            "flex": null,
            "flex_flow": null,
            "grid_area": null,
            "grid_auto_columns": null,
            "grid_auto_flow": null,
            "grid_auto_rows": null,
            "grid_column": null,
            "grid_gap": null,
            "grid_row": null,
            "grid_template_areas": null,
            "grid_template_columns": null,
            "grid_template_rows": null,
            "height": null,
            "justify_content": null,
            "justify_items": null,
            "left": null,
            "margin": null,
            "max_height": null,
            "max_width": null,
            "min_height": null,
            "min_width": null,
            "object_fit": null,
            "object_position": null,
            "order": null,
            "overflow": null,
            "overflow_x": null,
            "overflow_y": null,
            "padding": null,
            "right": null,
            "top": null,
            "visibility": null,
            "width": null
          }
        },
        "f7474af06d784227aa3f9a8e9a724e3c": {
          "model_module": "@jupyter-widgets/controls",
          "model_name": "DescriptionStyleModel",
          "model_module_version": "1.5.0",
          "state": {
            "_model_module": "@jupyter-widgets/controls",
            "_model_module_version": "1.5.0",
            "_model_name": "DescriptionStyleModel",
            "_view_count": null,
            "_view_module": "@jupyter-widgets/base",
            "_view_module_version": "1.2.0",
            "_view_name": "StyleView",
            "description_width": ""
          }
        },
        "df3a4fa8a6c94982a8177fd35ecf3d19": {
          "model_module": "@jupyter-widgets/base",
          "model_name": "LayoutModel",
          "model_module_version": "1.2.0",
          "state": {
            "_model_module": "@jupyter-widgets/base",
            "_model_module_version": "1.2.0",
            "_model_name": "LayoutModel",
            "_view_count": null,
            "_view_module": "@jupyter-widgets/base",
            "_view_module_version": "1.2.0",
            "_view_name": "LayoutView",
            "align_content": null,
            "align_items": null,
            "align_self": null,
            "border": null,
            "bottom": null,
            "display": null,
            "flex": null,
            "flex_flow": null,
            "grid_area": null,
            "grid_auto_columns": null,
            "grid_auto_flow": null,
            "grid_auto_rows": null,
            "grid_column": null,
            "grid_gap": null,
            "grid_row": null,
            "grid_template_areas": null,
            "grid_template_columns": null,
            "grid_template_rows": null,
            "height": null,
            "justify_content": null,
            "justify_items": null,
            "left": null,
            "margin": null,
            "max_height": null,
            "max_width": null,
            "min_height": null,
            "min_width": null,
            "object_fit": null,
            "object_position": null,
            "order": null,
            "overflow": null,
            "overflow_x": null,
            "overflow_y": null,
            "padding": null,
            "right": null,
            "top": null,
            "visibility": null,
            "width": null
          }
        },
        "b9d512e8a85f4d73b041217e5955d09f": {
          "model_module": "@jupyter-widgets/controls",
          "model_name": "ProgressStyleModel",
          "model_module_version": "1.5.0",
          "state": {
            "_model_module": "@jupyter-widgets/controls",
            "_model_module_version": "1.5.0",
            "_model_name": "ProgressStyleModel",
            "_view_count": null,
            "_view_module": "@jupyter-widgets/base",
            "_view_module_version": "1.2.0",
            "_view_name": "StyleView",
            "bar_color": null,
            "description_width": ""
          }
        },
        "227c1e36a10d4f1386f80a73e38c9a6a": {
          "model_module": "@jupyter-widgets/base",
          "model_name": "LayoutModel",
          "model_module_version": "1.2.0",
          "state": {
            "_model_module": "@jupyter-widgets/base",
            "_model_module_version": "1.2.0",
            "_model_name": "LayoutModel",
            "_view_count": null,
            "_view_module": "@jupyter-widgets/base",
            "_view_module_version": "1.2.0",
            "_view_name": "LayoutView",
            "align_content": null,
            "align_items": null,
            "align_self": null,
            "border": null,
            "bottom": null,
            "display": null,
            "flex": null,
            "flex_flow": null,
            "grid_area": null,
            "grid_auto_columns": null,
            "grid_auto_flow": null,
            "grid_auto_rows": null,
            "grid_column": null,
            "grid_gap": null,
            "grid_row": null,
            "grid_template_areas": null,
            "grid_template_columns": null,
            "grid_template_rows": null,
            "height": null,
            "justify_content": null,
            "justify_items": null,
            "left": null,
            "margin": null,
            "max_height": null,
            "max_width": null,
            "min_height": null,
            "min_width": null,
            "object_fit": null,
            "object_position": null,
            "order": null,
            "overflow": null,
            "overflow_x": null,
            "overflow_y": null,
            "padding": null,
            "right": null,
            "top": null,
            "visibility": null,
            "width": null
          }
        },
        "807f8df519984f04b55029b2f48841ea": {
          "model_module": "@jupyter-widgets/controls",
          "model_name": "DescriptionStyleModel",
          "model_module_version": "1.5.0",
          "state": {
            "_model_module": "@jupyter-widgets/controls",
            "_model_module_version": "1.5.0",
            "_model_name": "DescriptionStyleModel",
            "_view_count": null,
            "_view_module": "@jupyter-widgets/base",
            "_view_module_version": "1.2.0",
            "_view_name": "StyleView",
            "description_width": ""
          }
        }
      }
    }
  },
  "cells": [
    {
      "cell_type": "code",
      "execution_count": 1,
      "metadata": {
        "id": "sBq5TPlcKZxA"
      },
      "outputs": [],
      "source": [
        "import os\n",
        "import pandas as pd\n",
        "import transformers\n",
        "from itertools import product\n",
        "from experiments import run_threshold_experiment, run_supervised_experiment, run_perturbation_experiment\n",
        "from graphics import plot_llr_hist, plot_roc_curves\n",
        "from metrics import get_likelihood, get_rank, get_entropy\n",
        "from perturbations import get_perturbation_stats, perturb_texts_chunked\n",
        "from preprocessing import prepare_data\n",
        "\n",
        "DEVICE = \"cuda\"\n",
        "\n",
        "DATASET_SIZE = 4_000\n",
        "N_SAMPLES = 150\n",
        "\n",
        "IMG_FOLDER = \"images\"\n",
        "if not os.path.exists(IMG_FOLDER):\n",
        "    os.makedirs(IMG_FOLDER)"
      ]
    },
    {
      "cell_type": "code",
      "source": [
        "mask_model = transformers.AutoModelForSeq2SeqLM.from_pretrained(\"t5-small\").to(DEVICE)\n",
        "mask_tokenizer = transformers.AutoTokenizer.from_pretrained(\"t5-small\")\n",
        "perturb_fn = lambda texts: perturb_texts_chunked(mask_model, mask_tokenizer, texts, device=DEVICE)"
      ],
      "metadata": {
        "colab": {
          "base_uri": "https://localhost:8080/"
        },
        "id": "2kyfpX67QmVc",
        "outputId": "ed3e3aea-ceda-4fad-c223-ce285d30ed47"
      },
      "execution_count": 2,
      "outputs": [
        {
          "output_type": "stream",
          "name": "stderr",
          "text": [
            "/usr/local/lib/python3.10/dist-packages/huggingface_hub/utils/_auth.py:94: UserWarning: \n",
            "The secret `HF_TOKEN` does not exist in your Colab secrets.\n",
            "To authenticate with the Hugging Face Hub, create a token in your settings tab (https://huggingface.co/settings/tokens), set it as secret in your Google Colab and restart your session.\n",
            "You will be able to reuse this secret in all of your notebooks.\n",
            "Please note that authentication is recommended but still optional to access public models or datasets.\n",
            "  warnings.warn(\n"
          ]
        }
      ]
    },
    {
      "cell_type": "code",
      "source": [
        "chosen_datasets = [\n",
        "    (\"xsum\", \"document\"),\n",
        "    (\"squad\", \"context\"),\n",
        "]\n",
        "\n",
        "base_models = [\n",
        "    (\"gpt2-medium\", \"gpt2-medium\"),\n",
        "    (\"facebook/opt-2.7b\", \"opt-2.7b\"),\n",
        "]"
      ],
      "metadata": {
        "id": "wsPw6Q3rPiEk"
      },
      "execution_count": 3,
      "outputs": []
    },
    {
      "cell_type": "code",
      "source": [
        "all_experiments = []\n",
        "for base_model_path, base_model_name in base_models:\n",
        "    base_model = transformers.AutoModelForCausalLM.from_pretrained(base_model_path).to(DEVICE)\n",
        "    base_tokenizer = transformers.AutoTokenizer.from_pretrained(base_model_path)\n",
        "    base_tokenizer.pad_token_id = base_tokenizer.eos_token_id\n",
        "\n",
        "    ll_fn = lambda text: get_likelihood(base_model, base_tokenizer, text, DEVICE)\n",
        "    rank_fn = lambda text: -get_rank(base_model, base_tokenizer, text, DEVICE, log=False)\n",
        "    logrank_fn = lambda text: -get_rank(base_model, base_tokenizer, text, DEVICE, log=True)\n",
        "    entropy_fn = lambda text: get_entropy(base_model, base_tokenizer, text, DEVICE)\n",
        "\n",
        "    for dataset_name, dataset_col in chosen_datasets:\n",
        "        print(\"============================================================================\")\n",
        "        print(f\"Running new experiment... Dataset: {dataset_name}, Model: {base_model_name}\")\n",
        "        print(\"============================================================================\")\n",
        "        data = prepare_data(dataset_name, dataset_col, base_model, base_tokenizer, device=DEVICE, dataset_size=DATASET_SIZE, n_samples=N_SAMPLES)\n",
        "\n",
        "        exp_name = f\"{dataset_name}_{base_model_name}\"\n",
        "        experiments = []\n",
        "\n",
        "        experiments.append(run_threshold_experiment(ll_fn, f\"{exp_name}_likelihood\", data, n_samples=N_SAMPLES))\n",
        "        experiments.append(run_threshold_experiment(rank_fn, f\"{exp_name}_rank\", data, n_samples=N_SAMPLES))\n",
        "        experiments.append(run_threshold_experiment(logrank_fn, f\"{exp_name}_logrank\", data, n_samples=N_SAMPLES))\n",
        "        experiments.append(run_threshold_experiment(entropy_fn, f\"{exp_name}_entropy\", data, n_samples=N_SAMPLES))\n",
        "        experiments.append(run_supervised_experiment(\"roberta-base-openai-detector\", data, exp_name, device=DEVICE, n_samples=N_SAMPLES))\n",
        "        experiments.append(run_supervised_experiment(\"roberta-large-openai-detector\", data, exp_name, device=DEVICE, n_samples=N_SAMPLES))\n",
        "\n",
        "        for n_perturbations in (10,):\n",
        "            perturbation_stats = get_perturbation_stats(perturb_fn, ll_fn, data, n_perturbations=n_perturbations)\n",
        "            experiments.append(run_perturbation_experiment(perturbation_stats, f\"{exp_name}_perturbations_{n_perturbations}\"))\n",
        "            plot_llr_hist(perturbation_stats, name=f\"{exp_name}_perturbations_{n_perturbations}\", img_folder=IMG_FOLDER)\n",
        "\n",
        "        plot_roc_curves(experiments, name=exp_name, img_folder=IMG_FOLDER)\n",
        "        all_experiments += experiments"
      ],
      "metadata": {
        "colab": {
          "base_uri": "https://localhost:8080/",
          "height": 1000,
          "referenced_widgets": [
            "72f6224558db482e9dce3e0cb46a707f",
            "0133fd66b20146aa82693338a29f6824",
            "5f70342d50b14bd3911a93bce056cf16",
            "5b072cd9dbf747e4b776a8b22cd15d19",
            "abafb194c6644b4c8876b3cbd331faf5",
            "818546ddf755409e87fa2e6383b64b2b",
            "6751aefdd4bf4de08348b7089029ef5f",
            "4e0d707bda574a4aa82d1d2c42b8e835",
            "92dccc9939524086ab1410c88af9adf0",
            "f511b29df2d04ff2b6afda3716da317e",
            "3f9336c00bf04a57980dda4c25c461f2",
            "42330a8fab3749ec8b8d89b36d10e4ca",
            "b7a74658b5454b789e638481391ab188",
            "e676d3b054b5407997549b0209f32733",
            "0def2ca084a0419e956c52cc5b6504e0",
            "364461e4b9814c4394bad525389e8423",
            "397b50f563a84e25ba54853b45c1fd1d",
            "f7474af06d784227aa3f9a8e9a724e3c",
            "df3a4fa8a6c94982a8177fd35ecf3d19",
            "b9d512e8a85f4d73b041217e5955d09f",
            "227c1e36a10d4f1386f80a73e38c9a6a",
            "807f8df519984f04b55029b2f48841ea"
          ]
        },
        "id": "TCFJzBQXQYiz",
        "outputId": "b9d6e833-20a0-4ff8-967a-9fe7c2455aa3"
      },
      "execution_count": null,
      "outputs": [
        {
          "output_type": "stream",
          "name": "stdout",
          "text": [
            "============================================================================\n",
            "Running new experiment... Dataset: xsum, Model: gpt2-medium\n",
            "============================================================================\n"
          ]
        },
        {
          "output_type": "stream",
          "name": "stderr",
          "text": [
            "Token indices sequence length is longer than the specified maximum sequence length for this model (700 > 512). Running this sequence through the model will result in indexing errors\n",
            "Sampling from base_model: 100%|██████████| 3/3 [00:25<00:00,  8.54s/it]\n",
            "Computing xsum_gpt2-medium_likelihood: 100%|██████████| 3/3 [00:15<00:00,  5.22s/it]\n"
          ]
        },
        {
          "output_type": "stream",
          "name": "stdout",
          "text": [
            "ROC AUC: 0.9354666666666667, PR AUC: 0.8921794005605268\n"
          ]
        },
        {
          "output_type": "stream",
          "name": "stderr",
          "text": [
            "Computing xsum_gpt2-medium_rank: 100%|██████████| 3/3 [00:18<00:00,  6.13s/it]\n"
          ]
        },
        {
          "output_type": "stream",
          "name": "stdout",
          "text": [
            "ROC AUC: 0.8442222222222222, PR AUC: 0.8679953920539857\n"
          ]
        },
        {
          "output_type": "stream",
          "name": "stderr",
          "text": [
            "Computing xsum_gpt2-medium_logrank: 100%|██████████| 3/3 [00:18<00:00,  6.17s/it]\n"
          ]
        },
        {
          "output_type": "stream",
          "name": "stdout",
          "text": [
            "ROC AUC: 0.9613333333333334, PR AUC: 0.9263252759948166\n"
          ]
        },
        {
          "output_type": "stream",
          "name": "stderr",
          "text": [
            "Computing xsum_gpt2-medium_entropy: 100%|██████████| 3/3 [00:15<00:00,  5.17s/it]\n",
            "Some weights of the model checkpoint at roberta-base-openai-detector were not used when initializing RobertaForSequenceClassification: ['roberta.pooler.dense.bias', 'roberta.pooler.dense.weight']\n",
            "- This IS expected if you are initializing RobertaForSequenceClassification from the checkpoint of a model trained on another task or with another architecture (e.g. initializing a BertForSequenceClassification model from a BertForPreTraining model).\n",
            "- This IS NOT expected if you are initializing RobertaForSequenceClassification from the checkpoint of a model that you expect to be exactly identical (initializing a BertForSequenceClassification model from a BertForSequenceClassification model).\n"
          ]
        },
        {
          "output_type": "stream",
          "name": "stdout",
          "text": [
            "ROC AUC: 0.5936444444444444, PR AUC: 0.5942003145129817\n"
          ]
        },
        {
          "output_type": "stream",
          "name": "stderr",
          "text": [
            "Evaluating orig: 100%|██████████| 3/3 [00:01<00:00,  1.67it/s]\n",
            "Evaluating sampled: 100%|██████████| 3/3 [00:01<00:00,  1.89it/s]\n"
          ]
        },
        {
          "output_type": "stream",
          "name": "stdout",
          "text": [
            "ROC AUC: 0.9893777777777778, PR AUC: 0.9840380061268937\n"
          ]
        },
        {
          "output_type": "stream",
          "name": "stderr",
          "text": [
            "Some weights of the model checkpoint at roberta-large-openai-detector were not used when initializing RobertaForSequenceClassification: ['roberta.pooler.dense.bias', 'roberta.pooler.dense.weight']\n",
            "- This IS expected if you are initializing RobertaForSequenceClassification from the checkpoint of a model trained on another task or with another architecture (e.g. initializing a BertForSequenceClassification model from a BertForPreTraining model).\n",
            "- This IS NOT expected if you are initializing RobertaForSequenceClassification from the checkpoint of a model that you expect to be exactly identical (initializing a BertForSequenceClassification model from a BertForSequenceClassification model).\n",
            "Evaluating orig: 100%|██████████| 3/3 [00:06<00:00,  2.02s/it]\n",
            "Evaluating sampled: 100%|██████████| 3/3 [00:05<00:00,  1.71s/it]\n"
          ]
        },
        {
          "output_type": "stream",
          "name": "stdout",
          "text": [
            "ROC AUC: 0.9998666666666666, PR AUC: 0.9998662152485389\n"
          ]
        },
        {
          "output_type": "stream",
          "name": "stderr",
          "text": [
            "Applying perturbations: 100%|██████████| 75/75 [00:40<00:00,  1.85it/s]\n",
            "Applying perturbations: 100%|██████████| 75/75 [00:41<00:00,  1.79it/s]\n",
            "Computing perturbation stats: 100%|██████████| 150/150 [02:23<00:00,  1.04it/s]\n"
          ]
        },
        {
          "output_type": "stream",
          "name": "stdout",
          "text": [
            "ROC AUC: 0.6791555555555556, PR AUC: 0.6441453710961885\n"
          ]
        },
        {
          "output_type": "display_data",
          "data": {
            "text/plain": [
              "<Figure size 640x480 with 0 Axes>"
            ]
          },
          "metadata": {}
        },
        {
          "output_type": "display_data",
          "data": {
            "text/plain": [
              "<Figure size 700x500 with 1 Axes>"
            ],
            "image/png": "[encoded data removed]"
          },
          "metadata": {}
        },
        {
          "output_type": "stream",
          "name": "stdout",
          "text": [
            "xsum_gpt2-medium_likelihood_threshold roc_auc: 0.935\n",
            "xsum_gpt2-medium_rank_threshold roc_auc: 0.844\n",
            "xsum_gpt2-medium_logrank_threshold roc_auc: 0.961\n",
            "xsum_gpt2-medium_entropy_threshold roc_auc: 0.594\n",
            "xsum_gpt2-medium_roberta-base-openai-detector_supervised roc_auc: 0.989\n",
            "xsum_gpt2-medium_roberta-large-openai-detector_supervised roc_auc: 1.000\n",
            "xsum_gpt2-medium_perturbations_10_perturbations roc_auc: 0.679\n"
          ]
        },
        {
          "output_type": "display_data",
          "data": {
            "text/plain": [
              "<Figure size 640x480 with 0 Axes>"
            ]
          },
          "metadata": {}
        },
        {
          "output_type": "display_data",
          "data": {
            "text/plain": [
              "<Figure size 700x500 with 1 Axes>"
            ],
            "image/png": "[encoded data removed]"
          },
          "metadata": {}
        },
        {
          "output_type": "stream",
          "name": "stdout",
          "text": [
            "============================================================================\n",
            "Running new experiment... Dataset: squad, Model: gpt2-medium\n",
            "============================================================================\n"
          ]
        },
        {
          "output_type": "stream",
          "name": "stderr",
          "text": [
            "Token indices sequence length is longer than the specified maximum sequence length for this model (597 > 512). Running this sequence through the model will result in indexing errors\n",
            "Sampling from base_model: 100%|██████████| 3/3 [00:24<00:00,  8.26s/it]\n",
            "Computing squad_gpt2-medium_likelihood: 100%|██████████| 3/3 [00:16<00:00,  5.49s/it]\n"
          ]
        },
        {
          "output_type": "stream",
          "name": "stdout",
          "text": [
            "ROC AUC: 0.9678666666666667, PR AUC: 0.964788504319893\n"
          ]
        },
        {
          "output_type": "stream",
          "name": "stderr",
          "text": [
            "Computing squad_gpt2-medium_rank: 100%|██████████| 3/3 [00:19<00:00,  6.38s/it]\n"
          ]
        },
        {
          "output_type": "stream",
          "name": "stdout",
          "text": [
            "ROC AUC: 0.8850222222222223, PR AUC: 0.9065220640156089\n"
          ]
        },
        {
          "output_type": "stream",
          "name": "stderr",
          "text": [
            "Computing squad_gpt2-medium_logrank: 100%|██████████| 3/3 [00:18<00:00,  6.33s/it]\n"
          ]
        },
        {
          "output_type": "stream",
          "name": "stdout",
          "text": [
            "ROC AUC: 0.9903111111111111, PR AUC: 0.9895230172252141\n"
          ]
        },
        {
          "output_type": "stream",
          "name": "stderr",
          "text": [
            "Computing squad_gpt2-medium_entropy: 100%|██████████| 3/3 [00:16<00:00,  5.52s/it]\n"
          ]
        },
        {
          "output_type": "stream",
          "name": "stdout",
          "text": [
            "ROC AUC: 0.5365333333333334, PR AUC: 0.5062893846589132\n"
          ]
        },
        {
          "output_type": "stream",
          "name": "stderr",
          "text": [
            "Some weights of the model checkpoint at roberta-base-openai-detector were not used when initializing RobertaForSequenceClassification: ['roberta.pooler.dense.bias', 'roberta.pooler.dense.weight']\n",
            "- This IS expected if you are initializing RobertaForSequenceClassification from the checkpoint of a model trained on another task or with another architecture (e.g. initializing a BertForSequenceClassification model from a BertForPreTraining model).\n",
            "- This IS NOT expected if you are initializing RobertaForSequenceClassification from the checkpoint of a model that you expect to be exactly identical (initializing a BertForSequenceClassification model from a BertForSequenceClassification model).\n",
            "Evaluating orig: 100%|██████████| 3/3 [00:02<00:00,  1.49it/s]\n",
            "Evaluating sampled: 100%|██████████| 3/3 [00:01<00:00,  1.86it/s]\n"
          ]
        },
        {
          "output_type": "stream",
          "name": "stdout",
          "text": [
            "ROC AUC: 0.9897999999999999, PR AUC: 0.9902550981858416\n"
          ]
        },
        {
          "output_type": "stream",
          "name": "stderr",
          "text": [
            "Some weights of the model checkpoint at roberta-large-openai-detector were not used when initializing RobertaForSequenceClassification: ['roberta.pooler.dense.bias', 'roberta.pooler.dense.weight']\n",
            "- This IS expected if you are initializing RobertaForSequenceClassification from the checkpoint of a model trained on another task or with another architecture (e.g. initializing a BertForSequenceClassification model from a BertForPreTraining model).\n",
            "- This IS NOT expected if you are initializing RobertaForSequenceClassification from the checkpoint of a model that you expect to be exactly identical (initializing a BertForSequenceClassification model from a BertForSequenceClassification model).\n",
            "Evaluating orig: 100%|██████████| 3/3 [00:06<00:00,  2.27s/it]\n",
            "Evaluating sampled: 100%|██████████| 3/3 [00:05<00:00,  1.73s/it]\n"
          ]
        },
        {
          "output_type": "stream",
          "name": "stdout",
          "text": [
            "ROC AUC: 0.9987555555555556, PR AUC: 0.9987276630332678\n"
          ]
        },
        {
          "output_type": "stream",
          "name": "stderr",
          "text": [
            "Applying perturbations: 100%|██████████| 75/75 [00:41<00:00,  1.82it/s]\n",
            "Applying perturbations: 100%|██████████| 75/75 [00:43<00:00,  1.74it/s]\n",
            "Computing perturbation stats: 100%|██████████| 150/150 [02:28<00:00,  1.01it/s]"
          ]
        },
        {
          "output_type": "stream",
          "name": "stdout",
          "text": [
            "ROC AUC: 0.7728, PR AUC: 0.7721402140371687\n"
          ]
        },
        {
          "output_type": "stream",
          "name": "stderr",
          "text": [
            "\n"
          ]
        },
        {
          "output_type": "display_data",
          "data": {
            "text/plain": [
              "<Figure size 640x480 with 0 Axes>"
            ]
          },
          "metadata": {}
        },
        {
          "output_type": "display_data",
          "data": {
            "text/plain": [
              "<Figure size 700x500 with 1 Axes>"
            ],
            "image/png": "[encoded data removed]"
          },
          "metadata": {}
        },
        {
          "output_type": "stream",
          "name": "stdout",
          "text": [
            "squad_gpt2-medium_likelihood_threshold roc_auc: 0.968\n",
            "squad_gpt2-medium_rank_threshold roc_auc: 0.885\n",
            "squad_gpt2-medium_logrank_threshold roc_auc: 0.990\n",
            "squad_gpt2-medium_entropy_threshold roc_auc: 0.537\n",
            "squad_gpt2-medium_roberta-base-openai-detector_supervised roc_auc: 0.990\n",
            "squad_gpt2-medium_roberta-large-openai-detector_supervised roc_auc: 0.999\n",
            "squad_gpt2-medium_perturbations_10_perturbations roc_auc: 0.773\n"
          ]
        },
        {
          "output_type": "display_data",
          "data": {
            "text/plain": [
              "<Figure size 640x480 with 0 Axes>"
            ]
          },
          "metadata": {}
        },
        {
          "output_type": "display_data",
          "data": {
            "text/plain": [
              "<Figure size 700x500 with 1 Axes>"
            ],
            "image/png": "[encoded data removed]"
          },
          "metadata": {}
        },
        {
          "output_type": "display_data",
          "data": {
            "text/plain": [
              "config.json:   0%|          | 0.00/691 [00:00<?, ?B/s]"
            ],
            "application/vnd.jupyter.widget-view+json": {
              "version_major": 2,
              "version_minor": 0,
              "model_id": "72f6224558db482e9dce3e0cb46a707f"
            }
          },
          "metadata": {}
        },
        {
          "output_type": "display_data",
          "data": {
            "text/plain": [
              "pytorch_model.bin:   0%|          | 0.00/5.30G [00:00<?, ?B/s]"
            ],
            "application/vnd.jupyter.widget-view+json": {
              "version_major": 2,
              "version_minor": 0,
              "model_id": "42330a8fab3749ec8b8d89b36d10e4ca"
            }
          },
          "metadata": {}
        }
      ]
    },
    {
      "cell_type": "code",
      "source": [
        "res = {\"model\": [], \"dataset\": [], \"n_perturbations\": [], \"roc_auc\": []}\n",
        "for exp in all_experiments:\n",
        "    if \"perturbations\" in exp[\"name\"]:\n",
        "        dataset, model, _, n_perturbations = exp[\"name\"].split(\"_\")\n",
        "        res[\"model\"].append(model)\n",
        "        res[\"dataset\"].append(dataset)\n",
        "        res[\"n_perturbations\"].append(n_perturbations)\n",
        "        res[\"roc_auc\"] = exp[\"roc_auc\"]\n",
        "df = pd.DataFrame(res)\n",
        "df.head(48)"
      ],
      "metadata": {
        "id": "KpOFs_eaVBoU"
      },
      "execution_count": null,
      "outputs": []
    },
    {
      "cell_type": "code",
      "source": [
        "df.to_excel(\"results.xlsx\", index=False)"
      ],
      "metadata": {
        "id": "05eYcWDGVSxy"
      },
      "execution_count": null,
      "outputs": []
    }
  ]
}